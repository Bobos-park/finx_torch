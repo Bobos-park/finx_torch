{
 "cells": [
  {
   "cell_type": "code",
   "execution_count": 3,
   "metadata": {},
   "outputs": [],
   "source": [
    "import copy\n",
    "import torch\n",
    "import numpy as np\n",
    "import math"
   ]
  },
  {
   "cell_type": "code",
   "execution_count": 13,
   "metadata": {},
   "outputs": [
    {
     "data": {
      "text/plain": [
       "tensor([[1.0905, 0.6730, 0.8357, 0.8548, 0.0000, 0.0000],\n",
       "        [0.5524, 0.5520, 0.6604, 0.6154, 0.0000, 0.0000],\n",
       "        [0.6032, 0.5920, 0.6990, 0.6567, 0.0000, 0.0000],\n",
       "        [0.8572, 0.9728, 0.9671, 0.9296, 0.0000, 0.0000],\n",
       "        [0.0000, 0.0000, 0.0000, 0.0000, 0.0000, 0.0000],\n",
       "        [0.0000, 0.0000, 0.0000, 0.0000, 0.0000, 0.0000]])"
      ]
     },
     "execution_count": 13,
     "metadata": {},
     "output_type": "execute_result"
    }
   ],
   "source": [
    "q = torch.Tensor([np.random.random(10),np.random.random(10),np.random.random(10), np.random.random(10), np.zeros((10,1)), np.zeros((10,1))])\n",
    "k = torch.Tensor([np.random.random(10),np.random.random(10),np.random.random(10), np.random.random(10), np.zeros((10,1)), np.zeros((10,1))])\n",
    "scores = torch.matmul(q, k.transpose(0,1)) / math.sqrt(10)\n",
    "mask = torch.Tensor([1,1,1,1,0,0])\n",
    "mask = mask.unsqueeze(1)\n",
    "scores"
   ]
  },
  {
   "cell_type": "code",
   "execution_count": 11,
   "metadata": {},
   "outputs": [],
   "source": [
    "scores = scores.masked_fill(scores==0, -np.inf)"
   ]
  },
  {
   "cell_type": "code",
   "execution_count": 12,
   "metadata": {},
   "outputs": [
    {
     "data": {
      "text/plain": [
       "tensor([[0.7785, 0.6371, 0.8465, 0.8148,   -inf,   -inf],\n",
       "        [0.8156, 0.6631, 0.8386, 0.8294,   -inf,   -inf],\n",
       "        [0.5836, 0.7190, 0.9845, 0.7638,   -inf,   -inf],\n",
       "        [0.6466, 0.5366, 0.7733, 0.5670,   -inf,   -inf],\n",
       "        [  -inf,   -inf,   -inf,   -inf,   -inf,   -inf],\n",
       "        [  -inf,   -inf,   -inf,   -inf,   -inf,   -inf]])"
      ]
     },
     "execution_count": 12,
     "metadata": {},
     "output_type": "execute_result"
    }
   ],
   "source": [
    "scores"
   ]
  },
  {
   "cell_type": "code",
   "execution_count": 10,
   "metadata": {},
   "outputs": [
    {
     "data": {
      "text/plain": [
       "torch.Size([6, 10])"
      ]
     },
     "execution_count": 10,
     "metadata": {},
     "output_type": "execute_result"
    }
   ],
   "source": [
    "q.shape"
   ]
  },
  {
   "cell_type": "code",
   "execution_count": 9,
   "metadata": {},
   "outputs": [
    {
     "data": {
      "text/plain": [
       "tensor([[0.0360, 0.8665, 0.9652, 0.7520, 0.0320, 0.4395, 0.7705, 0.1589, 0.1866,\n",
       "         0.5359],\n",
       "        [0.5122, 0.5212, 0.3144, 0.5749, 0.0690, 0.3491, 0.5037, 0.5732, 0.5091,\n",
       "         0.2866],\n",
       "        [0.5452, 0.9535, 0.4544, 0.5494, 0.5952, 0.1282, 0.4389, 0.7857, 0.3352,\n",
       "         0.1589],\n",
       "        [0.9175, 0.0398, 0.8167, 0.5276, 0.0563, 0.0028, 0.6097, 0.9256, 0.3488,\n",
       "         0.5466],\n",
       "        [0.0000, 0.0000, 0.0000, 0.0000, 0.0000, 0.0000, 0.0000, 0.0000, 0.0000,\n",
       "         0.0000],\n",
       "        [0.0000, 0.0000, 0.0000, 0.0000, 0.0000, 0.0000, 0.0000, 0.0000, 0.0000,\n",
       "         0.0000]])"
      ]
     },
     "execution_count": 9,
     "metadata": {},
     "output_type": "execute_result"
    }
   ],
   "source": [
    "k"
   ]
  },
  {
   "cell_type": "code",
   "execution_count": 6,
   "metadata": {},
   "outputs": [],
   "source": [
    "    size = 5\n",
    "    atten_shape = (1, size, size)\n",
    "    mask = np.triu(np.ones(atten_shape), k=1).astype('uint8')"
   ]
  },
  {
   "cell_type": "code",
   "execution_count": 7,
   "metadata": {},
   "outputs": [
    {
     "data": {
      "text/plain": [
       "array([[[0, 1, 1, 1, 1],\n",
       "        [0, 0, 1, 1, 1],\n",
       "        [0, 0, 0, 1, 1],\n",
       "        [0, 0, 0, 0, 1],\n",
       "        [0, 0, 0, 0, 0]]], dtype=uint8)"
      ]
     },
     "execution_count": 7,
     "metadata": {},
     "output_type": "execute_result"
    }
   ],
   "source": [
    "mask"
   ]
  },
  {
   "cell_type": "code",
   "execution_count": 8,
   "metadata": {},
   "outputs": [
    {
     "data": {
      "text/plain": [
       "tensor([[[ True, False, False, False, False],\n",
       "         [ True,  True, False, False, False],\n",
       "         [ True,  True,  True, False, False],\n",
       "         [ True,  True,  True,  True, False],\n",
       "         [ True,  True,  True,  True,  True]]])"
      ]
     },
     "execution_count": 8,
     "metadata": {},
     "output_type": "execute_result"
    }
   ],
   "source": [
    "torch.from_numpy(mask) == 0 "
   ]
  },
  {
   "cell_type": "code",
   "execution_count": 9,
   "metadata": {},
   "outputs": [],
   "source": [
    "def make_std_mask(tgt, pad):\n",
    "    tgt_mask = (tgt !=pad) # pad masking\n",
    "    tgt_mask = tgt_mask.unsqueeze(-2) # reshape (n_batch, seq_len) -> (n_batch, 1, seq_len)\n",
    "    tgt_mask = tgt_mask & Variable(subsequent_mask(tgt.size(-1)).type_as(tgt_mask.data)) \n",
    "    #beat-wise 연산자... 잘 모르겠다.\n",
    "    return tgt_mask"
   ]
  },
  {
   "cell_type": "code",
   "execution_count": null,
   "metadata": {},
   "outputs": [],
   "source": [
    "make_std_mask()"
   ]
  }
 ],
 "metadata": {
  "interpreter": {
   "hash": "db2b00e8b120d35c687f9e87b48a02165bfeba4f320aa0b2601277081472281e"
  },
  "kernelspec": {
   "display_name": "Python 3.8.5 64-bit ('x7jeon8gi': conda)",
   "language": "python",
   "name": "python3"
  },
  "language_info": {
   "codemirror_mode": {
    "name": "ipython",
    "version": 3
   },
   "file_extension": ".py",
   "mimetype": "text/x-python",
   "name": "python",
   "nbconvert_exporter": "python",
   "pygments_lexer": "ipython3",
   "version": "3.8.5"
  },
  "orig_nbformat": 4
 },
 "nbformat": 4,
 "nbformat_minor": 2
}
